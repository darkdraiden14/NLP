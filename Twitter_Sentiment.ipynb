{
 "cells": [
  {
   "cell_type": "code",
   "execution_count": 23,
   "metadata": {},
   "outputs": [],
   "source": [
    "import tweepy\n",
    "import matplotlib.pyplot as plt\n",
    "import time\n",
    "from textblob import TextBlob"
   ]
  },
  {
   "cell_type": "code",
   "execution_count": 24,
   "metadata": {},
   "outputs": [],
   "source": [
    "# all 4 authentication keys to access twitter API\n",
    "# to connect as OAuth handler or jump-server /reverse proxy server\n",
    "consumer_key=\"kFxccFQifoEQaZ6PUxsIUbaqx\"\n",
    "consumer_sec=\"DY3O2Ehpnves4Y24h9zaJC4k3brfSrjygQUUrJcx38mjt6X4mo\"\n",
    "\n",
    "# from proxy server we need to connect to web server of twitter\n",
    "access_token=\"1094500234556715010-Amri9nysuLO38qAmJtBnB18TialVz0\"\n",
    "access_sec=\"Uvcl627b5SHQSDp1JvjTHI9hWjJlAUvj7aqIL4kPR3DeK\""
   ]
  },
  {
   "cell_type": "code",
   "execution_count": 25,
   "metadata": {},
   "outputs": [],
   "source": [
    "# tweepy explore\n",
    "# connecting to jump server of twitter\n",
    "auth = tweepy.OAuthHandler(consumer_key,consumer_sec)"
   ]
  },
  {
   "cell_type": "code",
   "execution_count": 26,
   "metadata": {},
   "outputs": [],
   "source": [
    "# now we can connect from jump server to web server of twitter\n",
    "auth.set_access_token(access_token,access_sec)"
   ]
  },
  {
   "cell_type": "code",
   "execution_count": 27,
   "metadata": {},
   "outputs": [],
   "source": [
    "# now we can connect to API storage server of twitter\n",
    "api_connect=tweepy.API(auth)"
   ]
  },
  {
   "cell_type": "code",
   "execution_count": 62,
   "metadata": {},
   "outputs": [],
   "source": [
    "# now you can search any topic on twitter\n",
    "tweet_data=api_connect.search('budget',count=20)"
   ]
  },
  {
   "cell_type": "code",
   "execution_count": 63,
   "metadata": {},
   "outputs": [
    {
     "name": "stdout",
     "output_type": "stream",
     "text": [
      "Sentiment(polarity=0.0, subjectivity=0.0)\n",
      "Neutral\n",
      "Sentiment(polarity=0.0, subjectivity=0.5)\n",
      "Neutral\n",
      "Sentiment(polarity=0.0, subjectivity=0.0)\n",
      "Neutral\n",
      "Sentiment(polarity=0.08, subjectivity=0.6033333333333333)\n",
      "Positive\n",
      "Sentiment(polarity=0.0, subjectivity=0.0)\n",
      "Neutral\n",
      "Sentiment(polarity=0.0, subjectivity=0.0)\n",
      "Neutral\n",
      "Sentiment(polarity=0.25, subjectivity=0.6)\n",
      "Positive\n",
      "Sentiment(polarity=0.5, subjectivity=0.5)\n",
      "Positive\n",
      "Sentiment(polarity=-0.125, subjectivity=0.125)\n",
      "Negative\n",
      "Sentiment(polarity=-0.020000000000000004, subjectivity=0.295)\n",
      "Negative\n",
      "Sentiment(polarity=0.20833333333333331, subjectivity=0.3333333333333333)\n",
      "Positive\n",
      "Sentiment(polarity=0.0, subjectivity=0.0)\n",
      "Neutral\n",
      "Sentiment(polarity=0.0, subjectivity=0.0)\n",
      "Neutral\n",
      "Sentiment(polarity=0.25, subjectivity=0.75)\n",
      "Positive\n",
      "Sentiment(polarity=0.0, subjectivity=0.0)\n",
      "Neutral\n",
      "Sentiment(polarity=0.0, subjectivity=0.0)\n",
      "Neutral\n",
      "Sentiment(polarity=0.0, subjectivity=0.0)\n",
      "Neutral\n",
      "Sentiment(polarity=0.0, subjectivity=0.0)\n",
      "Neutral\n"
     ]
    },
    {
     "data": {
      "image/png": "[encoded data removed]",
      "text/plain": [
       "<Figure size 432x288 with 1 Axes>"
      ]
     },
     "metadata": {
      "needs_background": "light"
     },
     "output_type": "display_data"
    }
   ],
   "source": [
    "pos=0\n",
    "neg=0\n",
    "neu=0\n",
    "# printing line by line\n",
    "for tweet in tweet_data:\n",
    "    #print(tweet.text)\n",
    "    analys=TextBlob(tweet.text)   # here it will apply NLP\n",
    "    print(analys.sentiment)\n",
    "    # now checking polarity\n",
    "    if analys.sentiment.polarity>0:\n",
    "        print(\"Positive\")\n",
    "        pos+=1\n",
    "    elif analys.sentiment.polarity==0:\n",
    "        print(\"Neutral\")\n",
    "        neu+=1\n",
    "    else:\n",
    "        print(\"Negative\")\n",
    "        neg+=1\n",
    "        \n",
    "# plotting graphs\n",
    "plt.xlabel(\"tags\")\n",
    "plt.ylabel(\"polarity\")\n",
    "plt.bar(['pos','neu','neg'],[pos,neu,neg])\n",
    "plt.show()"
   ]
  },
  {
   "cell_type": "code",
   "execution_count": null,
   "metadata": {},
   "outputs": [],
   "source": []
  }
 ],
 "metadata": {
  "kernelspec": {
   "display_name": "Python 3",
   "language": "python",
   "name": "python3"
  },
  "language_info": {
   "codemirror_mode": {
    "name": "ipython",
    "version": 3
   },
   "file_extension": ".py",
   "mimetype": "text/x-python",
   "name": "python",
   "nbconvert_exporter": "python",
   "pygments_lexer": "ipython3",
   "version": "3.7.3"
  }
 },
 "nbformat": 4,
 "nbformat_minor": 2
}
